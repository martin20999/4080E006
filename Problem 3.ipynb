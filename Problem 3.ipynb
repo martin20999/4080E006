{
  "nbformat": 4,
  "nbformat_minor": 0,
  "metadata": {
    "colab": {
      "name": "Untitled22.ipynb",
      "provenance": []
    },
    "kernelspec": {
      "name": "python3",
      "display_name": "Python 3"
    }
  },
  "cells": [
    {
      "cell_type": "code",
      "metadata": {
        "id": "-7v9EpThkFzE",
        "colab_type": "code",
        "outputId": "4e96cf43-e5d2-45c7-b2f9-cc61a0764a38",
        "colab": {
          "base_uri": "https://localhost:8080/",
          "height": 84
        }
      },
      "source": [
        "#Problem 3\n",
        "#Name:Your name\n",
        "#Time: 3:30\n",
        "#...your code goes here ...\n",
        "varA = input(\"請輸入一個數字或字串\")\n",
        "varB = input(\"請輸入一個數字或字串\")\n",
        "if(varA > varB):\n",
        "  print(\"bigger\")\n",
        "if(varA == varB):\n",
        "  print(\"equal\")\n",
        "if(varA < varB):\n",
        "  print(\"smaller\")\n",
        "elif type(varA or varB):\n",
        "  print(\"string involved\")"
      ],
      "execution_count": 0,
      "outputs": [
        {
          "output_type": "stream",
          "text": [
            "請輸入一個數字或字串10242048\n",
            "請輸入一個數字或字串10242048\n",
            "equal\n",
            "string involved\n"
          ],
          "name": "stdout"
        }
      ]
    },
    {
      "cell_type": "code",
      "metadata": {
        "id": "bh6FUlWvoTBe",
        "colab_type": "code",
        "outputId": "a4ac2ed2-c49c-4cb2-e059-39ea8e8c4f12",
        "colab": {
          "base_uri": "https://localhost:8080/",
          "height": 67
        }
      },
      "source": [
        "#Problem 3\n",
        "#Name:Your name\n",
        "#Time: 3:30\n",
        "#...your code goes here ...\n",
        "varA = input(\"請輸入一個數字或字串\")\n",
        "varB = input(\"請輸入一個數字或字串\")\n",
        "if  type(varA) == str or type(varB) == str:\n",
        " \n",
        "    print('string involved')\n",
        " \n",
        "elif varA > varB:\n",
        " \n",
        "            print('bigger')\n",
        " \n",
        "elif varA == varB:\n",
        " \n",
        "                    print('equal')\n",
        " \n",
        "elif varA < varB:\n",
        "                            print('smaller')"
      ],
      "execution_count": 0,
      "outputs": [
        {
          "output_type": "stream",
          "text": [
            "請輸入一個數字或字串10242048\n",
            "請輸入一個數字或字串10242048\n",
            "string involved\n"
          ],
          "name": "stdout"
        }
      ]
    },
    {
      "cell_type": "code",
      "metadata": {
        "id": "Vh5QDZV8pSMd",
        "colab_type": "code",
        "colab": {}
      },
      "source": [
        "def comp(varA,varB):\n",
        "    if isinstance(varA, str) or isinstance(varB, str):\n",
        "        print(\"string involved\")\n",
        "    try:\n",
        "        a = float(varA)\n",
        "        b = float(varB)\n",
        "    except:\n",
        "        a = str(varA)\n",
        "        b = str(varB)\n",
        "    if a > b:\n",
        "        print('bigger')\n",
        "    elif a < b:\n",
        "        print('smaller')\n",
        "    else:\n",
        "        print('equal')\n",
        "\n"
      ],
      "execution_count": 0,
      "outputs": []
    },
    {
      "cell_type": "code",
      "metadata": {
        "id": "xZ4rNIJhpaq1",
        "colab_type": "code",
        "outputId": "4242987d-c4bf-457e-9f86-4a9101dada30",
        "colab": {
          "base_uri": "https://localhost:8080/",
          "height": 67
        }
      },
      "source": [
        "#Problem 3\n",
        "#Name:Your name\n",
        "#Time: 3:30\n",
        "#...your code goes here ...\n",
        "varA = input(\"請輸入一個數字或字串\")\n",
        "varB = input(\"請輸入一個數字或字串\")\n",
        "if type(varA) == str or type(varB) == str:\n",
        "    print('string involved')\n",
        "elif varA > varB:\n",
        "    print('bigger')\n",
        "elif varA == varB:\n",
        "    print('equal')\n",
        "elif varA < varB:\n",
        "    print('smaller')"
      ],
      "execution_count": 0,
      "outputs": [
        {
          "output_type": "stream",
          "text": [
            "請輸入一個數字或字串10242048\n",
            "請輸入一個數字或字串10242048\n",
            "string involved\n"
          ],
          "name": "stdout"
        }
      ]
    }
  ]
}