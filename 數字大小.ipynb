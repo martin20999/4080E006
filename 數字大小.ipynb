{
  "nbformat": 4,
  "nbformat_minor": 0,
  "metadata": {
    "colab": {
      "name": "數字大小.ipynb",
      "provenance": []
    },
    "kernelspec": {
      "name": "python3",
      "display_name": "Python 3"
    }
  },
  "cells": [
    {
      "cell_type": "code",
      "metadata": {
        "id": "DKKfvdlrx5Lc",
        "colab_type": "code",
        "outputId": "b5085304-9d22-4389-b195-3ea1fa7c8538",
        "colab": {
          "base_uri": "https://localhost:8080/",
          "height": 151
        }
      },
      "source": [
        "#定義一個空陣列\n",
        "numbers = []\n",
        "#迴圈遍歷，下面的4是控制迴圈次數\n",
        "for i in range(4):\n",
        "    if i > 0:\n",
        "        x = int(input(f\"請輸入第{i}個整數：\"))\n",
        "        #把使用者輸入的數傳遞到定義的numbers陣列中\n",
        "        numbers.append(x)\n",
        "#輸出未排序之前的數字\n",
        "print(f\"未排序之前是：{numbers}\")\n",
        "#讓數字從小到大排序\n",
        "print(\"由小到大排序完後是：\",sorted(numbers))\n",
        "#讓數字從大到小排序\n",
        "numbers.sort(reverse=True)\n",
        "print(f\"由小到大排序完後是：{numbers}\")\n",
        "#輸出最大值\n",
        "print(f\"最大數是：{max(numbers)}\")\n",
        "#輸出最小值\n",
        "print(f\"最小數是：{min(numbers)}\")"
      ],
      "execution_count": 1,
      "outputs": [
        {
          "output_type": "stream",
          "text": [
            "請輸入第1個整數：1024\n",
            "請輸入第2個整數：2048\n",
            "請輸入第3個整數：4096\n",
            "未排序之前是：[1024, 2048, 4096]\n",
            "由小到大排序完後是： [1024, 2048, 4096]\n",
            "由小到大排序完後是：[4096, 2048, 1024]\n",
            "最大數是：4096\n",
            "最小數是：1024\n"
          ],
          "name": "stdout"
        }
      ]
    }
  ]
}