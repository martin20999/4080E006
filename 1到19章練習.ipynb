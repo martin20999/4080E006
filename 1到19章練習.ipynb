{
  "nbformat": 4,
  "nbformat_minor": 0,
  "metadata": {
    "colab": {
      "name": "1~19章練習.ipynb",
      "provenance": [],
      "collapsed_sections": [],
      "include_colab_link": true
    },
    "kernelspec": {
      "name": "python3",
      "display_name": "Python 3"
    }
  },
  "cells": [
    {
      "cell_type": "markdown",
      "metadata": {
        "id": "view-in-github",
        "colab_type": "text"
      },
      "source": [
        "<a href=\"https://colab.research.google.com/github/martin20999/4080E006/blob/master/1%E5%88%B019%E7%AB%A0%E7%B7%B4%E7%BF%92.ipynb\" target=\"_parent\"><img src=\"https://colab.research.google.com/assets/colab-badge.svg\" alt=\"Open In Colab\"/></a>"
      ]
    },
    {
      "cell_type": "code",
      "metadata": {
        "id": "QOQ1TwBCOxcy",
        "colab_type": "code",
        "colab": {
          "base_uri": "https://localhost:8080/",
          "height": 34
        },
        "outputId": "c901ea6c-b225-4ebf-e0ef-275272abb344"
      },
      "source": [
        "#第2章(2-3)\n",
        "a=3.1\n",
        "b=2.2\n",
        "c=a*b*b\n",
        "print(c)"
      ],
      "execution_count": 1,
      "outputs": [
        {
          "output_type": "stream",
          "text": [
            "15.004000000000003\n"
          ],
          "name": "stdout"
        }
      ]
    },
    {
      "cell_type": "code",
      "metadata": {
        "id": "Fv62rUljRV4O",
        "colab_type": "code",
        "colab": {
          "base_uri": "https://localhost:8080/",
          "height": 34
        },
        "outputId": "55954a26-1c4d-43f7-ee90-81bf676d148a"
      },
      "source": [
        "#第2章(2-4)\n",
        "pi=3.1\n",
        "radius=2.2\n",
        "#算出圓面積\n",
        "circle_area = pi * radius *radius\n",
        "#circle_area(圓面積)\n",
        "#radius(半徑)\n",
        "print(circle_area)"
      ],
      "execution_count": 2,
      "outputs": [
        {
          "output_type": "stream",
          "text": [
            "15.004000000000003\n"
          ],
          "name": "stdout"
        }
      ]
    },
    {
      "cell_type": "code",
      "metadata": {
        "id": "NiT-ifyRSEdG",
        "colab_type": "code",
        "colab": {
          "base_uri": "https://localhost:8080/",
          "height": 84
        },
        "outputId": "d0d639cf-1d01-4272-8e26-e7fb2391ab8d"
      },
      "source": [
        "#第三章(3-4)觀念驗證\n",
        "#6<7\n",
        "#print(0)\n",
        "#7*0+4\n",
        "#print(\"hello\")\n",
        "\n",
        "print(6/7)\n",
        "print(0)\n",
        "print(7*0+4)\n",
        "print(\"hello\")"
      ],
      "execution_count": 4,
      "outputs": [
        {
          "output_type": "stream",
          "text": [
            "0.8571428571428571\n",
            "0\n",
            "4\n",
            "hello\n"
          ],
          "name": "stdout"
        }
      ]
    },
    {
      "cell_type": "code",
      "metadata": {
        "id": "QVZTB3kPUYdX",
        "colab_type": "code",
        "colab": {
          "base_uri": "https://localhost:8080/",
          "height": 50
        },
        "outputId": "d76a13d0-ddb0-4e10-b81d-c5885b6fde42"
      },
      "source": [
        "#第三章(3-6)\n",
        "3+2\n",
        "4/5\n",
        "print(3+2)\n",
        "print(4/5)"
      ],
      "execution_count": 5,
      "outputs": [
        {
          "output_type": "stream",
          "text": [
            "5\n",
            "0.8\n"
          ],
          "name": "stdout"
        }
      ]
    },
    {
      "cell_type": "code",
      "metadata": {
        "id": "uBzbO4wKVBBm",
        "colab_type": "code",
        "colab": {
          "base_uri": "https://localhost:8080/",
          "height": 67
        },
        "outputId": "9ef2de38-ee95-417d-db28-76d8b41d6e37"
      },
      "source": [
        "#第三章(3-7)觀念驗證\n",
        "#print(4-4*4)\n",
        "#print(19)\n",
        "#19-10\n",
        "\n",
        "print(4-4*4)\n",
        "print(19)\n",
        "print(19-10)"
      ],
      "execution_count": 6,
      "outputs": [
        {
          "output_type": "stream",
          "text": [
            "-12\n",
            "19\n",
            "9\n"
          ],
          "name": "stdout"
        }
      ]
    },
    {
      "cell_type": "code",
      "metadata": {
        "id": "4FDhvpcFWnYK",
        "colab_type": "code",
        "colab": {
          "base_uri": "https://localhost:8080/",
          "height": 127
        },
        "outputId": "15c315ec-caa2-4b44-9022-983606720567"
      },
      "source": [
        "#第四章(4-7)觀念驗證\n",
        "#可用變數名稱\n",
        "customer_list\n",
        "(X)print\n",
        "rainbow_sparkly_unicorn\n",
        "list_of_things_|_need_to_pick_up_form_the_store\n",
        "(X)range"
      ],
      "execution_count": 7,
      "outputs": [
        {
          "output_type": "error",
          "ename": "SyntaxError",
          "evalue": "ignored",
          "traceback": [
            "\u001b[0;36m  File \u001b[0;32m\"<ipython-input-7-84f762745520>\"\u001b[0;36m, line \u001b[0;32m2\u001b[0m\n\u001b[0;31m    (X)print\u001b[0m\n\u001b[0m           ^\u001b[0m\n\u001b[0;31mSyntaxError\u001b[0m\u001b[0;31m:\u001b[0m invalid syntax\n"
          ]
        }
      ]
    },
    {
      "cell_type": "code",
      "metadata": {
        "id": "eme2eSMHbKrO",
        "colab_type": "code",
        "colab": {
          "base_uri": "https://localhost:8080/",
          "height": 34
        },
        "outputId": "cd0e4e16-89ae-448e-a66a-dbed4cfc2c20"
      },
      "source": [
        "#第四章(4-10)\n",
        "c=1\n",
        "id(c)\n",
        "#10914496 識別碼\n",
        "\n",
        "c=2\n",
        "id(c)\n",
        "#10914528 識別碼"
      ],
      "execution_count": 9,
      "outputs": [
        {
          "output_type": "execute_result",
          "data": {
            "text/plain": [
              "10914528"
            ]
          },
          "metadata": {
            "tags": []
          },
          "execution_count": 9
        }
      ]
    },
    {
      "cell_type": "code",
      "metadata": {
        "id": "6S8NdovCdCnQ",
        "colab_type": "code",
        "colab": {
          "base_uri": "https://localhost:8080/",
          "height": 67
        },
        "outputId": "f8991fbd-77cd-471c-aef6-4496a486648a"
      },
      "source": [
        "#第四章(4-11)觀念驗證\n",
        "apples=5\n",
        "oranges=10\n",
        "fruits = apples+oranges\n",
        "print(fruits)\n",
        "\n",
        "apples=20\n",
        "oranges=10\n",
        "fruits = apples+oranges\n",
        "print(fruits)\n",
        "\n",
        "#(4-12)習題\n",
        "a=2\n",
        "b=2\n",
        "#a+x=b #錯的\n",
        "x=a+b\n",
        "print(x)\n"
      ],
      "execution_count": 10,
      "outputs": [
        {
          "output_type": "stream",
          "text": [
            "15\n",
            "30\n",
            "4\n"
          ],
          "name": "stdout"
        }
      ]
    },
    {
      "cell_type": "code",
      "metadata": {
        "id": "QQkLEwOLnM6v",
        "colab_type": "code",
        "colab": {
          "base_uri": "https://localhost:8080/",
          "height": 67
        },
        "outputId": "f89482ba-0ada-4de7-8019-898ae5354d8e"
      },
      "source": [
        "#第五章(5-4)觀念驗證\n",
        "six=2+2+2\n",
        "print(six)\n",
        "\n",
        "neg=six*(-6)\n",
        "print(neg)\n",
        "\n",
        "neg=neg/10\n",
        "print(neg)"
      ],
      "execution_count": 11,
      "outputs": [
        {
          "output_type": "stream",
          "text": [
            "6\n",
            "-36\n",
            "-3.6\n"
          ],
          "name": "stdout"
        }
      ]
    },
    {
      "cell_type": "code",
      "metadata": {
        "id": "SznHmCGcoId8",
        "colab_type": "code",
        "colab": {
          "base_uri": "https://localhost:8080/",
          "height": 34
        },
        "outputId": "1672cf0e-5616-4788-d0e6-3e014df7ea96"
      },
      "source": [
        "neg=neg/10\n",
        "print(neg)"
      ],
      "execution_count": 12,
      "outputs": [
        {
          "output_type": "stream",
          "text": [
            "-0.36\n"
          ],
          "name": "stdout"
        }
      ]
    },
    {
      "cell_type": "code",
      "metadata": {
        "id": "I4ZzllTNpCel",
        "colab_type": "code",
        "colab": {
          "base_uri": "https://localhost:8080/",
          "height": 50
        },
        "outputId": "c95f8dac-9fd4-4d12-e580-b7c7b814404a"
      },
      "source": [
        "#第五章(5-4)觀念驗證\n",
        "half=0.25*2\n",
        "print(half)\n",
        "\n",
        "other_half=1-half\n",
        "print(other_half)"
      ],
      "execution_count": 14,
      "outputs": [
        {
          "output_type": "stream",
          "text": [
            "0.5\n",
            "0.5\n"
          ],
          "name": "stdout"
        }
      ]
    },
    {
      "cell_type": "code",
      "metadata": {
        "id": "WkwK_5j6p82K",
        "colab_type": "code",
        "colab": {
          "base_uri": "https://localhost:8080/",
          "height": 34
        },
        "outputId": "2ce4cc67-361f-439b-c2f2-1a849333ce78"
      },
      "source": [
        "#第五章(5-5)觀念驗證(5.3)\n",
        "cold=True\n",
        "rain=False\n",
        "day=cold and rain\n",
        "print(day)"
      ],
      "execution_count": 15,
      "outputs": [
        {
          "output_type": "stream",
          "text": [
            "False\n"
          ],
          "name": "stdout"
        }
      ]
    },
    {
      "cell_type": "code",
      "metadata": {
        "id": "yZyVDU3wsQi9",
        "colab_type": "code",
        "colab": {
          "base_uri": "https://localhost:8080/",
          "height": 67
        },
        "outputId": "9c55b50d-cd8b-49c1-a698-329e54ae5df3"
      },
      "source": [
        "#第五章(5-5)觀念驗證(5.4)\n",
        "one=\"one\"\n",
        "another_one=\"1.0\"\n",
        "last_one=\"one 1\"\n",
        "print(one)\n",
        "print(another_one)\n",
        "print(last_one)"
      ],
      "execution_count": 16,
      "outputs": [
        {
          "output_type": "stream",
          "text": [
            "one\n",
            "1.0\n",
            "one 1\n"
          ],
          "name": "stdout"
        }
      ]
    },
    {
      "cell_type": "code",
      "metadata": {
        "id": "xtxyY5d020fV",
        "colab_type": "code",
        "colab": {
          "base_uri": "https://localhost:8080/",
          "height": 34
        },
        "outputId": "5cab0b71-6401-47df-ae91-7004ae34c196"
      },
      "source": [
        "#第五章(5-7)類型轉換、取得類型\n",
        "type(2.7)\n",
        "type(27)\n",
        "type(False)\n",
        "type(\"False\")\n",
        "type(\"0.0\")\n",
        "type(-21)\n",
        "type(99999999)\n",
        "type(\"None\")\n",
        "type(None)\n"
      ],
      "execution_count": 17,
      "outputs": [
        {
          "output_type": "execute_result",
          "data": {
            "text/plain": [
              "NoneType"
            ]
          },
          "metadata": {
            "tags": []
          },
          "execution_count": 17
        }
      ]
    },
    {
      "cell_type": "code",
      "metadata": {
        "id": "zaIUtZlj31N3",
        "colab_type": "code",
        "colab": {
          "base_uri": "https://localhost:8080/",
          "height": 101
        },
        "outputId": "256f41ea-4db0-4626-a9dd-211de0f29ce5"
      },
      "source": [
        "#第五章(5-8)\n",
        "float(4)\n",
        "print(float(4))\n",
        "int(4)\n",
        "print(int(4))\n",
        "str(3.5)\n",
        "print(str(3.5))\n",
        "int(3.94)\n",
        "print(int(3.94))\n",
        "int(False)"
      ],
      "execution_count": 18,
      "outputs": [
        {
          "output_type": "stream",
          "text": [
            "4.0\n",
            "4\n",
            "3.5\n",
            "3\n"
          ],
          "name": "stdout"
        },
        {
          "output_type": "execute_result",
          "data": {
            "text/plain": [
              "0"
            ]
          },
          "metadata": {
            "tags": []
          },
          "execution_count": 18
        }
      ]
    },
    {
      "cell_type": "code",
      "metadata": {
        "id": "JsHnUUCB6AJi",
        "colab_type": "code",
        "colab": {
          "base_uri": "https://localhost:8080/",
          "height": 101
        },
        "outputId": "b311c54d-c39d-4c97-c1ed-90035c965771"
      },
      "source": [
        "#第五章(5-8)觀念驗證\n",
        "str(True)\n",
        "print(str(True))\n",
        "float(3)\n",
        "print(float(3))\n",
        "str(3.8)\n",
        "print(str(3.8))\n",
        "int(0.5)\n",
        "print(int(0.5))\n",
        "int(\"4\")\n",
        "print(int(\"4\"))"
      ],
      "execution_count": 19,
      "outputs": [
        {
          "output_type": "stream",
          "text": [
            "True\n",
            "3.0\n",
            "3.8\n",
            "0\n",
            "4\n"
          ],
          "name": "stdout"
        }
      ]
    },
    {
      "cell_type": "code",
      "metadata": {
        "id": "crh6u9Qi6qUT",
        "colab_type": "code",
        "colab": {
          "base_uri": "https://localhost:8080/",
          "height": 34
        },
        "outputId": "a372a132-6c4f-437b-ee2a-d68cbde18106"
      },
      "source": [
        "str(True)"
      ],
      "execution_count": 20,
      "outputs": [
        {
          "output_type": "execute_result",
          "data": {
            "text/plain": [
              "'True'"
            ]
          },
          "metadata": {
            "tags": []
          },
          "execution_count": 20
        }
      ]
    },
    {
      "cell_type": "code",
      "metadata": {
        "id": "Luqf-cB47n9t",
        "colab_type": "code",
        "colab": {
          "base_uri": "https://localhost:8080/",
          "height": 168
        },
        "outputId": "e9c42ea3-82bf-43d3-ea32-b51156c2bfda"
      },
      "source": [
        "#第五章(5-10)觀念驗證\n",
        "print(2.25-1)\n",
        "print(3.0*3)\n",
        "print(2*4)\n",
        "print(round(2.01*100))\n",
        "print(2.0**4)\n",
        "print(2/2.0)\n",
        "print(6/4)\n",
        "print(6%4)\n",
        "print(4%2)"
      ],
      "execution_count": 21,
      "outputs": [
        {
          "output_type": "stream",
          "text": [
            "1.25\n",
            "9.0\n",
            "8\n",
            "201\n",
            "16.0\n",
            "1.0\n",
            "1.5\n",
            "2\n",
            "0\n"
          ],
          "name": "stdout"
        }
      ]
    }
  ]
}