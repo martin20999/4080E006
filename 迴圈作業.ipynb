{
  "nbformat": 4,
  "nbformat_minor": 0,
  "metadata": {
    "colab": {
      "name": "迴圈作業.ipynb",
      "provenance": [],
      "include_colab_link": true
    },
    "kernelspec": {
      "name": "python2",
      "display_name": "Python 2"
    }
  },
  "cells": [
    {
      "cell_type": "markdown",
      "metadata": {
        "id": "view-in-github",
        "colab_type": "text"
      },
      "source": [
        "<a href=\"https://colab.research.google.com/github/martin20999/4080E006/blob/master/%E8%BF%B4%E5%9C%88%E4%BD%9C%E6%A5%AD.ipynb\" target=\"_parent\"><img src=\"https://colab.research.google.com/assets/colab-badge.svg\" alt=\"Open In Colab\"/></a>"
      ]
    },
    {
      "cell_type": "code",
      "metadata": {
        "id": "QfpXOdcFcOd5",
        "colab_type": "code",
        "colab": {
          "base_uri": "https://localhost:8080/",
          "height": 50
        },
        "outputId": "64a09a08-03a0-488c-8757-2df82d33c974"
      },
      "source": [
        "for name in ['Christopher', 'Susan']:\n",
        "\tprint(name)\n"
      ],
      "execution_count": 6,
      "outputs": [
        {
          "output_type": "stream",
          "text": [
            "Christopher\n",
            "Susan\n"
          ],
          "name": "stdout"
        }
      ]
    },
    {
      "cell_type": "code",
      "metadata": {
        "id": "V72QhSOlcTs0",
        "colab_type": "code",
        "colab": {
          "base_uri": "https://localhost:8080/",
          "height": 50
        },
        "outputId": "6b40b6ab-9dd9-4d45-f243-f42027e6ba5f"
      },
      "source": [
        "for index in range(0, 2):\n",
        "\tprint(index)"
      ],
      "execution_count": 7,
      "outputs": [
        {
          "output_type": "stream",
          "text": [
            "0\n",
            "1\n"
          ],
          "name": "stdout"
        }
      ]
    },
    {
      "cell_type": "code",
      "metadata": {
        "id": "7eLkYtEdcYRE",
        "colab_type": "code",
        "colab": {
          "base_uri": "https://localhost:8080/",
          "height": 50
        },
        "outputId": "6e20bace-cdae-4000-e5d5-3c6c760cc474"
      },
      "source": [
        "names = ['Christopher', 'Susan']\n",
        "index = 0\n",
        "while index < len(names):   #判斷條件\n",
        "\tprint(names[index]) \n",
        "\t# Change the condition!!\n",
        "\tindex = index + 1\n"
      ],
      "execution_count": 8,
      "outputs": [
        {
          "output_type": "stream",
          "text": [
            "Christopher\n",
            "Susan\n"
          ],
          "name": "stdout"
        }
      ]
    },
    {
      "cell_type": "code",
      "metadata": {
        "id": "HWjF8S5adtmT",
        "colab_type": "code",
        "colab": {
          "base_uri": "https://localhost:8080/",
          "height": 34
        },
        "outputId": "285cbaed-90c0-4f14-e68c-cc558fa6475c"
      },
      "source": [
        "price =10\n",
        "\n",
        "if price >= 1.00:\n",
        "\ttax = .07\n",
        "\tprint(tax)\n",
        "else:\n",
        "\ttax = 0\n",
        "\tprint(tax)\n",
        "\n"
      ],
      "execution_count": 9,
      "outputs": [
        {
          "output_type": "stream",
          "text": [
            "0.07\n"
          ],
          "name": "stdout"
        }
      ]
    },
    {
      "cell_type": "code",
      "metadata": {
        "id": "146oiAzPlMgj",
        "colab_type": "code",
        "colab": {
          "base_uri": "https://localhost:8080/",
          "height": 34
        },
        "outputId": "59a79ef0-aa82-4640-fd46-4f1f61bff376"
      },
      "source": [
        "if price >= 1.00:\n",
        "\ttax = .07\n",
        "\tprint(tax)\n",
        "else:\n",
        "\ttax = 0\n",
        "\tprint(tax)"
      ],
      "execution_count": 10,
      "outputs": [
        {
          "output_type": "stream",
          "text": [
            "0.07\n"
          ],
          "name": "stdout"
        }
      ]
    },
    {
      "cell_type": "code",
      "metadata": {
        "id": "Qm1b6WgIma2t",
        "colab_type": "code",
        "colab": {
          "base_uri": "https://localhost:8080/",
          "height": 34
        },
        "outputId": "3739a7a4-e177-439a-abb2-d7978cac999b"
      },
      "source": [
        "if price >= 1.00:\n",
        "\ttax = .07\n",
        "else:\n",
        "\ttax = 0\n",
        "print(tax)"
      ],
      "execution_count": 11,
      "outputs": [
        {
          "output_type": "stream",
          "text": [
            "0.07\n"
          ],
          "name": "stdout"
        }
      ]
    },
    {
      "cell_type": "code",
      "metadata": {
        "id": "81_UGOK7mfwO",
        "colab_type": "code",
        "colab": {
          "base_uri": "https://localhost:8080/",
          "height": 127
        },
        "outputId": "e677526b-867b-46a9-cdd8-096bdcc958c5"
      },
      "source": [
        "country = 'CANADA'\n",
        "if country == 'canada':\n",
        "    print('Oh look a Canadian')    \n",
        "else:\n",
        "    print('You are not from Canada')"
      ],
      "execution_count": 12,
      "outputs": [
        {
          "output_type": "error",
          "ename": "SyntaxError",
          "evalue": "ignored",
          "traceback": [
            "\u001b[0;36m  File \u001b[0;32m\"<ipython-input-12-092087bd1698>\"\u001b[0;36m, line \u001b[0;32m3\u001b[0m\n\u001b[0;31m    print('Oh look a Canadian')\u001b[0m\n\u001b[0m    ^\u001b[0m\n\u001b[0;31mSyntaxError\u001b[0m\u001b[0;31m:\u001b[0m invalid syntax\n"
          ]
        }
      ]
    },
    {
      "cell_type": "code",
      "metadata": {
        "id": "bC0QnD91nC8a",
        "colab_type": "code",
        "colab": {
          "base_uri": "https://localhost:8080/",
          "height": 127
        },
        "outputId": "f76d575f-f2d0-4105-bf04-a8d96fefcb90"
      },
      "source": [
        "province=\"country\"\n",
        "\n",
        "if province == 'Alberta':\n",
        "\ttax = 0.05\n",
        "elif province == 'Nunavut':\n",
        "\ttax = 0.05\n",
        "elif province == 'Ontario':\n",
        "\ttax = 0.13\n",
        "else:\n",
        "\ttax = 0.15\n",
        "  print(province)"
      ],
      "execution_count": 13,
      "outputs": [
        {
          "output_type": "error",
          "ename": "IndentationError",
          "evalue": "ignored",
          "traceback": [
            "\u001b[0;36m  File \u001b[0;32m\"<ipython-input-13-28ab12fa134c>\"\u001b[0;36m, line \u001b[0;32m11\u001b[0m\n\u001b[0;31m    print(province)\u001b[0m\n\u001b[0m                   ^\u001b[0m\n\u001b[0;31mIndentationError\u001b[0m\u001b[0;31m:\u001b[0m unindent does not match any outer indentation level\n"
          ]
        }
      ]
    },
    {
      "cell_type": "code",
      "metadata": {
        "id": "a7plSXVBnmUv",
        "colab_type": "code",
        "colab": {
          "base_uri": "https://localhost:8080/",
          "height": 127
        },
        "outputId": "008c899d-952e-415a-d962-83afd499d97e"
      },
      "source": [
        "\n",
        "\n",
        "if province == 'Alberta' \\ or province == 'Nunavut':\n",
        "\ttax = 0.05\n",
        "elif province == 'Ontario':\n",
        "\ttax = 0.13\n",
        "else:\n",
        "\ttax = 0.15\n",
        "  print(province)"
      ],
      "execution_count": 5,
      "outputs": [
        {
          "output_type": "error",
          "ename": "SyntaxError",
          "evalue": "ignored",
          "traceback": [
            "\u001b[0;36m  File \u001b[0;32m\"<ipython-input-5-630b1face850>\"\u001b[0;36m, line \u001b[0;32m3\u001b[0m\n\u001b[0;31m    if province == 'Alberta' \\ or province == 'Nunavut':\u001b[0m\n\u001b[0m                                                        ^\u001b[0m\n\u001b[0;31mSyntaxError\u001b[0m\u001b[0;31m:\u001b[0m unexpected character after line continuation character\n"
          ]
        }
      ]
    },
    {
      "cell_type": "code",
      "metadata": {
        "id": "jmTmwMiopfUN",
        "colab_type": "code",
        "colab": {
          "base_uri": "https://localhost:8080/",
          "height": 84
        },
        "outputId": "c60744b7-45bd-4ab4-c5b6-403043489ec5"
      },
      "source": [
        "print(\"hello!\")\n",
        "print(3*2*(17-2.1))\n",
        "print(\"abc\"+\"def\")\n",
        "word = \"art\"\n",
        "print(word.replace(\"r\", \"n\"))"
      ],
      "execution_count": 2,
      "outputs": [
        {
          "output_type": "stream",
          "text": [
            "hello!\n",
            "89.4\n",
            "abcdef\n",
            "ant\n"
          ],
          "name": "stdout"
        }
      ]
    },
    {
      "cell_type": "code",
      "metadata": {
        "id": "2s4a1A4hpt3_",
        "colab_type": "code",
        "colab": {
          "base_uri": "https://localhost:8080/",
          "height": 50
        },
        "outputId": "1987d126-3a54-4a68-8777-da03c34f6f72"
      },
      "source": [
        "\n",
        "a= 1\n",
        "b= 2\n",
        "c = a/b\n",
        "print(a, \"/\", b, \"=\", c) \n",
        "add = str(a)+\"/\"+str(b)+\"=\"+str(c)\n",
        "print(add)"
      ],
      "execution_count": 1,
      "outputs": [
        {
          "output_type": "stream",
          "text": [
            "(1, '/', 2, '=', 0)\n",
            "1/2=0\n"
          ],
          "name": "stdout"
        }
      ]
    }
  ]
}