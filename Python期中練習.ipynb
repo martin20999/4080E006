{
  "nbformat": 4,
  "nbformat_minor": 0,
  "metadata": {
    "colab": {
      "name": "Python期中練習.ipynb",
      "provenance": [],
      "include_colab_link": true
    },
    "kernelspec": {
      "name": "python3",
      "display_name": "Python 3"
    }
  },
  "cells": [
    {
      "cell_type": "markdown",
      "metadata": {
        "id": "view-in-github",
        "colab_type": "text"
      },
      "source": [
        "<a href=\"https://colab.research.google.com/github/martin20999/4080E006/blob/master/Python%E6%9C%9F%E4%B8%AD%E7%B7%B4%E7%BF%92.ipynb\" target=\"_parent\"><img src=\"https://colab.research.google.com/assets/colab-badge.svg\" alt=\"Open In Colab\"/></a>"
      ]
    },
    {
      "cell_type": "code",
      "metadata": {
        "id": "IwX7bQEV0L2I",
        "colab_type": "code",
        "outputId": "9dec9879-d537-4943-debe-0502313a9271",
        "colab": {
          "base_uri": "https://localhost:8080/",
          "height": 34
        }
      },
      "source": [
        "print(\"3*2*(17-2)\")"
      ],
      "execution_count": 0,
      "outputs": [
        {
          "output_type": "stream",
          "text": [
            "3*2*(17-2)\n"
          ],
          "name": "stdout"
        }
      ]
    },
    {
      "cell_type": "code",
      "metadata": {
        "id": "TFqG8LOW0Pf5",
        "colab_type": "code",
        "outputId": "9af86271-cd4c-4ef4-d023-e5b05d8b11a9",
        "colab": {
          "base_uri": "https://localhost:8080/",
          "height": 34
        }
      },
      "source": [
        "print(3*2*(17-2))"
      ],
      "execution_count": 0,
      "outputs": [
        {
          "output_type": "stream",
          "text": [
            "90\n"
          ],
          "name": "stdout"
        }
      ]
    },
    {
      "cell_type": "code",
      "metadata": {
        "id": "HXDs1X3A0S_X",
        "colab_type": "code",
        "outputId": "741a56bd-a090-4f4e-86e5-36f99cb6d702",
        "colab": {
          "base_uri": "https://localhost:8080/",
          "height": 34
        }
      },
      "source": [
        "print(\"abc\"\"+\"\"def\")"
      ],
      "execution_count": 0,
      "outputs": [
        {
          "output_type": "stream",
          "text": [
            "abc+def\n"
          ],
          "name": "stdout"
        }
      ]
    },
    {
      "cell_type": "code",
      "metadata": {
        "id": "dpG_flQg0WBB",
        "colab_type": "code",
        "outputId": "eb8c4454-bc19-4a88-c4f4-ef4e4dbb397c",
        "colab": {
          "base_uri": "https://localhost:8080/",
          "height": 34
        }
      },
      "source": [
        "print(\"abc\"+\"def\")"
      ],
      "execution_count": 0,
      "outputs": [
        {
          "output_type": "stream",
          "text": [
            "abcdef\n"
          ],
          "name": "stdout"
        }
      ]
    },
    {
      "cell_type": "code",
      "metadata": {
        "id": "bsGTfwiI0Ygd",
        "colab_type": "code",
        "outputId": "9dcc6f36-ed4c-4e22-f7d8-f63d2080c8c5",
        "colab": {
          "base_uri": "https://localhost:8080/",
          "height": 34
        }
      },
      "source": [
        "word = \"arttarataaa\"\n",
        "print(word.replace(\"a\", \"z\",3))"
      ],
      "execution_count": 0,
      "outputs": [
        {
          "output_type": "stream",
          "text": [
            "zrttzrztaaa\n"
          ],
          "name": "stdout"
        }
      ]
    },
    {
      "cell_type": "code",
      "metadata": {
        "id": "t0OM6Exa0fxD",
        "colab_type": "code",
        "outputId": "1cabd1d7-d422-4978-fa8b-205d2f8e280d",
        "colab": {
          "base_uri": "https://localhost:8080/",
          "height": 34
        }
      },
      "source": [
        "word = \"arttarataaa\"\n",
        "print(word.replace(\"a\", \"z\"))"
      ],
      "execution_count": 0,
      "outputs": [
        {
          "output_type": "stream",
          "text": [
            "zrttzrztzzz\n"
          ],
          "name": "stdout"
        }
      ]
    },
    {
      "cell_type": "code",
      "metadata": {
        "id": "GiimDXew0sly",
        "colab_type": "code",
        "outputId": "d496a2b4-1462-4a8e-f8aa-2cca76462bee",
        "colab": {
          "base_uri": "https://localhost:8080/",
          "height": 51
        }
      },
      "source": [
        "names = ['龍', '聖']\n",
        "index = 0\n",
        "\n",
        "while index < len(names):\n",
        "    name = names[index]\n",
        "    print(name)\n",
        "    index = index + 1"
      ],
      "execution_count": 0,
      "outputs": [
        {
          "output_type": "stream",
          "text": [
            "龍\n",
            "聖\n"
          ],
          "name": "stdout"
        }
      ]
    },
    {
      "cell_type": "code",
      "metadata": {
        "id": "kkIuZehs007Y",
        "colab_type": "code",
        "outputId": "0cc34aa5-3af0-476b-f692-d3b0d04fee9e",
        "colab": {
          "base_uri": "https://localhost:8080/",
          "height": 34
        }
      },
      "source": [
        "sum=0\n",
        "\n",
        "for x in range(1,101):\n",
        "  sum +=x\n",
        "  \n",
        "print(sum)"
      ],
      "execution_count": 0,
      "outputs": [
        {
          "output_type": "stream",
          "text": [
            "5050\n"
          ],
          "name": "stdout"
        }
      ]
    },
    {
      "cell_type": "code",
      "metadata": {
        "id": "94w7S_0a0-MA",
        "colab_type": "code",
        "outputId": "05a1202c-710d-443b-b1c6-62cb11534320",
        "colab": {
          "base_uri": "https://localhost:8080/",
          "height": 34
        }
      },
      "source": [
        "sum=0\n",
        "\n",
        "for x in range(1,101,2):\n",
        "  sum +=x\n",
        "  \n",
        "print(sum)"
      ],
      "execution_count": 0,
      "outputs": [
        {
          "output_type": "stream",
          "text": [
            "2500\n"
          ],
          "name": "stdout"
        }
      ]
    },
    {
      "cell_type": "code",
      "metadata": {
        "id": "0_uooRrU1QQ1",
        "colab_type": "code",
        "outputId": "d7e7ac93-f561-4767-84ae-850f6c3c18d0",
        "colab": {
          "base_uri": "https://localhost:8080/",
          "height": 34
        }
      },
      "source": [
        "total=1\n",
        "\n",
        "for x in range(1,101,2):\n",
        "  total *=x\n",
        "  \n",
        "print(total)"
      ],
      "execution_count": 0,
      "outputs": [
        {
          "output_type": "stream",
          "text": [
            "2725392139750729502980713245400918633290796330545803413734328823443106201171875\n"
          ],
          "name": "stdout"
        }
      ]
    },
    {
      "cell_type": "code",
      "metadata": {
        "id": "32MKpmaG1T2n",
        "colab_type": "code",
        "outputId": "c169528c-ad0c-4af1-e667-f4167c101369",
        "colab": {
          "base_uri": "https://localhost:8080/",
          "height": 34
        }
      },
      "source": [
        "sum=1\n",
        "\n",
        "for x in range(1,101,2):\n",
        "  sum *=x\n",
        "  \n",
        "print(sum)"
      ],
      "execution_count": 0,
      "outputs": [
        {
          "output_type": "stream",
          "text": [
            "2725392139750729502980713245400918633290796330545803413734328823443106201171875\n"
          ],
          "name": "stdout"
        }
      ]
    },
    {
      "cell_type": "code",
      "metadata": {
        "id": "dd7pVxBW1pAK",
        "colab_type": "code",
        "outputId": "b0adf9b2-7c5e-49e8-dd33-309e86ec6a70",
        "colab": {
          "base_uri": "https://localhost:8080/",
          "height": 34
        }
      },
      "source": [
        "sum = 0\n",
        "x=1\n",
        "\n",
        "while x < 101:\n",
        "  sum +=x\n",
        "  x = x+1\n",
        "  # x += 1\n",
        "  \n",
        "print(sum)"
      ],
      "execution_count": 0,
      "outputs": [
        {
          "output_type": "stream",
          "text": [
            "5050\n"
          ],
          "name": "stdout"
        }
      ]
    },
    {
      "cell_type": "code",
      "metadata": {
        "id": "Hq3ZVV4v2Cg0",
        "colab_type": "code",
        "outputId": "82d1492b-f8a6-4561-db7d-bf19be844aa2",
        "colab": {
          "base_uri": "https://localhost:8080/",
          "height": 34
        }
      },
      "source": [
        "sum = 0\n",
        "x=1\n",
        "\n",
        "while x < 101:\n",
        "  sum +=x\n",
        "  x = x+2\n",
        "  # x += 1\n",
        "  \n",
        "print(sum)"
      ],
      "execution_count": 0,
      "outputs": [
        {
          "output_type": "stream",
          "text": [
            "2500\n"
          ],
          "name": "stdout"
        }
      ]
    },
    {
      "cell_type": "code",
      "metadata": {
        "id": "JKk7jfQg2H25",
        "colab_type": "code",
        "outputId": "9652133d-8a02-46cb-cd40-b879e250a3c3",
        "colab": {
          "base_uri": "https://localhost:8080/",
          "height": 34
        }
      },
      "source": [
        "total = 1\n",
        "x=1\n",
        "\n",
        "while x < 101:\n",
        "  total *=x\n",
        "  x = x+2     # x += 2\n",
        "  \n",
        "print(total)"
      ],
      "execution_count": 0,
      "outputs": [
        {
          "output_type": "stream",
          "text": [
            "2725392139750729502980713245400918633290796330545803413734328823443106201171875\n"
          ],
          "name": "stdout"
        }
      ]
    },
    {
      "cell_type": "code",
      "metadata": {
        "id": "Vuy8Vn3r2Mfk",
        "colab_type": "code",
        "outputId": "ae72a9b7-9d86-45b4-9aa4-30352886b2a3",
        "colab": {
          "base_uri": "https://localhost:8080/",
          "height": 34
        }
      },
      "source": [
        "round(3.49)"
      ],
      "execution_count": 0,
      "outputs": [
        {
          "output_type": "execute_result",
          "data": {
            "text/plain": [
              "3"
            ]
          },
          "metadata": {
            "tags": []
          },
          "execution_count": 19
        }
      ]
    },
    {
      "cell_type": "code",
      "metadata": {
        "id": "ex85GA742N7q",
        "colab_type": "code",
        "outputId": "eefc52b9-ea05-4384-b0c0-1c9d1d10a0a7",
        "colab": {
          "base_uri": "https://localhost:8080/",
          "height": 34
        }
      },
      "source": [
        "round(3.51)"
      ],
      "execution_count": 0,
      "outputs": [
        {
          "output_type": "execute_result",
          "data": {
            "text/plain": [
              "4"
            ]
          },
          "metadata": {
            "tags": []
          },
          "execution_count": 20
        }
      ]
    },
    {
      "cell_type": "code",
      "metadata": {
        "id": "DsdUo5oO2UKF",
        "colab_type": "code",
        "outputId": "98804c66-3518-4c06-f46b-aa2e97194d07",
        "colab": {
          "base_uri": "https://localhost:8080/",
          "height": 34
        }
      },
      "source": [
        "divmod(3,5)"
      ],
      "execution_count": 0,
      "outputs": [
        {
          "output_type": "execute_result",
          "data": {
            "text/plain": [
              "(0, 3)"
            ]
          },
          "metadata": {
            "tags": []
          },
          "execution_count": 21
        }
      ]
    },
    {
      "cell_type": "code",
      "metadata": {
        "id": "r2nf_gec2bMi",
        "colab_type": "code",
        "outputId": "98fb4179-6e8e-4570-8b76-6a1409a397c9",
        "colab": {
          "base_uri": "https://localhost:8080/",
          "height": 34
        }
      },
      "source": [
        "divmod(5,3)"
      ],
      "execution_count": 0,
      "outputs": [
        {
          "output_type": "execute_result",
          "data": {
            "text/plain": [
              "(1, 2)"
            ]
          },
          "metadata": {
            "tags": []
          },
          "execution_count": 22
        }
      ]
    },
    {
      "cell_type": "code",
      "metadata": {
        "id": "ZpG-vEh82p9B",
        "colab_type": "code",
        "outputId": "67e06ff9-f459-4c05-a80a-0c5eabf9e99d",
        "colab": {
          "base_uri": "https://localhost:8080/",
          "height": 34
        }
      },
      "source": [
        "divmod(-5,3)"
      ],
      "execution_count": 0,
      "outputs": [
        {
          "output_type": "execute_result",
          "data": {
            "text/plain": [
              "(-2, 1)"
            ]
          },
          "metadata": {
            "tags": []
          },
          "execution_count": 23
        }
      ]
    },
    {
      "cell_type": "code",
      "metadata": {
        "id": "Igv9ZOUt3Z7y",
        "colab_type": "code",
        "outputId": "cf96dca1-ad0d-42e2-a555-f9ae41b68416",
        "colab": {
          "base_uri": "https://localhost:8080/",
          "height": 34
        }
      },
      "source": [
        "divmod(2,4)"
      ],
      "execution_count": 0,
      "outputs": [
        {
          "output_type": "execute_result",
          "data": {
            "text/plain": [
              "(0, 2)"
            ]
          },
          "metadata": {
            "tags": []
          },
          "execution_count": 24
        }
      ]
    },
    {
      "cell_type": "code",
      "metadata": {
        "id": "Jg13GuTc8LgU",
        "colab_type": "code",
        "outputId": "e0dfc12c-89a2-4715-cd28-6ea0f9eaca55",
        "colab": {
          "base_uri": "https://localhost:8080/",
          "height": 34
        }
      },
      "source": [
        "hex(7)"
      ],
      "execution_count": 0,
      "outputs": [
        {
          "output_type": "execute_result",
          "data": {
            "text/plain": [
              "'0x7'"
            ]
          },
          "metadata": {
            "tags": []
          },
          "execution_count": 33
        }
      ]
    }
  ]
}